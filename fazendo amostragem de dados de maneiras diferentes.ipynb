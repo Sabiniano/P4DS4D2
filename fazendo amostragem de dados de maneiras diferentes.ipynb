{
 "cells": [
  {
   "cell_type": "code",
   "execution_count": 3,
   "id": "538ddeb6",
   "metadata": {},
   "outputs": [
    {
     "name": "stdout",
     "output_type": "stream",
     "text": [
      "Reading Line: 0 Content: Color\tValue\n",
      "\n",
      "Reading Line: 2 Content: Orange\t2\n",
      "\n",
      "Reading Line: 4 Content: Green\t4\n",
      "\n",
      "Reading Line: 6 Content: Purple\t6\n",
      "\n",
      "Reading Line: 8 Content: White\t8\n"
     ]
    }
   ],
   "source": [
    "#Exibe apenas as linhas pares\n",
    "n = 2\n",
    "with open(\"Colors.txt\", 'r') as open_file:\n",
    "    for j, observation in enumerate(open_file):\n",
    "        if j % n==0:\n",
    "            print('Reading Line: ' + str(j) + ' Content: ' + observation)"
   ]
  },
  {
   "cell_type": "code",
   "execution_count": 4,
   "id": "a2287afc",
   "metadata": {},
   "outputs": [
    {
     "name": "stdout",
     "output_type": "stream",
     "text": [
      "Reading Line: 0 Content: Color\tValue\n",
      "\n",
      "Reading Line: 3 Content: Yellow\t3\n",
      "\n",
      "Reading Line: 6 Content: Purple\t6\n",
      "\n"
     ]
    }
   ],
   "source": [
    "#Exibe as linhas que são divisiveis por 3\n",
    "n = 3\n",
    "with open(\"Colors.txt\", 'r') as open_file:\n",
    "    for j, observation in enumerate(open_file):\n",
    "        if j % n==0:\n",
    "            print('Reading Line: ' + str(j) + ' Content: ' + observation)"
   ]
  },
  {
   "cell_type": "code",
   "execution_count": 7,
   "id": "019fc00a",
   "metadata": {},
   "outputs": [
    {
     "name": "stdout",
     "output_type": "stream",
     "text": [
      "Reading Line: 0 Content: Color\tValue\n",
      "\n",
      "Reading Line: 1 Content: Red\t1\n",
      "\n"
     ]
    }
   ],
   "source": [
    "#Exibe as linhas por amostragem aleatória\n",
    "from random import random\n",
    "sample_size = 0.25\n",
    "with open(\"Colors.txt\", 'r') as open_file:\n",
    "    for j, observation in enumerate(open_file):\n",
    "        if random()<=sample_size:\n",
    "            print('Reading Line: ' + str(j) + ' Content: ' + observation)"
   ]
  },
  {
   "cell_type": "code",
   "execution_count": null,
   "id": "cc33d417",
   "metadata": {},
   "outputs": [],
   "source": []
  }
 ],
 "metadata": {
  "kernelspec": {
   "display_name": "Python 3 (ipykernel)",
   "language": "python",
   "name": "python3"
  },
  "language_info": {
   "codemirror_mode": {
    "name": "ipython",
    "version": 3
   },
   "file_extension": ".py",
   "mimetype": "text/x-python",
   "name": "python",
   "nbconvert_exporter": "python",
   "pygments_lexer": "ipython3",
   "version": "3.9.7"
  }
 },
 "nbformat": 4,
 "nbformat_minor": 5
}
