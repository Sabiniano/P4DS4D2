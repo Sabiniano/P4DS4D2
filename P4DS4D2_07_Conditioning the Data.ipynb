{
 "cells": [
  {
   "cell_type": "markdown",
   "id": "b8656c3f",
   "metadata": {},
   "source": [
    "# Validating Your Data"
   ]
  },
  {
   "cell_type": "markdown",
   "id": "9a7e2a21",
   "metadata": {},
   "source": [
    "## Figuring out what´s in your data"
   ]
  },
  {
   "cell_type": "code",
   "execution_count": 1,
   "id": "2fe74fbd",
   "metadata": {},
   "outputs": [
    {
     "name": "stdout",
     "output_type": "stream",
     "text": [
      "  Number  String Boolean\n",
      "0      1   First    True\n",
      "1      2  Second   False\n",
      "2      3   Third    True\n",
      "3      3   Third    True\n",
      "\n",
      "3    True\n",
      "dtype: bool\n"
     ]
    }
   ],
   "source": [
    "from lxml import objectify\n",
    "import pandas as pd\n",
    "\n",
    "xml = objectify.parse(open('XMLData2.xml'))\n",
    "root = xml.getroot()\n",
    "\n",
    "df = pd.DataFrame(columns=('Number', 'String',\n",
    "                          'Boolean'))\n",
    "\n",
    "for i in range(0,4):\n",
    "    obj = root.getchildren()[i].getchildren()\n",
    "    row = dict(zip(['Number', 'String', 'Boolean'],\n",
    "                  [obj[0].text, obj[1].text,\n",
    "                  obj[2].text]))\n",
    "    row_s = pd.Series(row)\n",
    "    row_s.name = i\n",
    "    df = df.append(row_s)\n",
    "    \n",
    "search = pd.DataFrame.duplicated(df)\n",
    "print(df)\n",
    "print()\n",
    "print(search[search == True])"
   ]
  },
  {
   "cell_type": "markdown",
   "id": "d1cc225d",
   "metadata": {},
   "source": [
    "## Removing duplicates"
   ]
  },
  {
   "cell_type": "code",
   "execution_count": 2,
   "id": "ef6d0c8c",
   "metadata": {},
   "outputs": [
    {
     "name": "stdout",
     "output_type": "stream",
     "text": [
      "  Number  String Boolean\n",
      "0      1   First    True\n",
      "1      2  Second   False\n",
      "2      3   Third    True\n"
     ]
    }
   ],
   "source": [
    "from lxml import objectify\n",
    "import pandas as pd\n",
    "\n",
    "xml = objectify.parse(open('XMLData2.xml'))\n",
    "root = xml.getroot()\n",
    "\n",
    "df = pd.DataFrame(columns=('Number', 'String',\n",
    "                          'Boolean'))\n",
    "\n",
    "for i in range(0,4):\n",
    "    obj = root.getchildren()[i].getchildren()\n",
    "    row = dict(zip(['Number', 'String', 'Boolean'],\n",
    "                  [obj[0].text, obj[1].text,\n",
    "                  obj[2].text]))\n",
    "    row_s = pd.Series(row)\n",
    "    row_s.name = i\n",
    "    df = df.append(row_s)\n",
    "    \n",
    "print(df.drop_duplicates())"
   ]
  },
  {
   "cell_type": "markdown",
   "id": "76305e97",
   "metadata": {},
   "source": [
    "## Creating a data map and a data plan"
   ]
  },
  {
   "cell_type": "code",
   "execution_count": 3,
   "id": "b8aaa7a2",
   "metadata": {},
   "outputs": [
    {
     "name": "stdout",
     "output_type": "stream",
     "text": [
      "      B                                            \\\n",
      "  count mean       std  min   25%  50%   75%  max   \n",
      "A                                                   \n",
      "0   5.0  3.0  1.581139  1.0  2.00  3.0  4.00  5.0   \n",
      "1   2.0  3.5  2.121320  2.0  2.75  3.5  4.25  5.0   \n",
      "\n",
      "      C                                            \n",
      "  count mean       std  min   25%  50%   75%  max  \n",
      "A                                                  \n",
      "0   5.0  2.8  1.788854  1.0  1.00  3.0  4.00  5.0  \n",
      "1   2.0  2.5  0.707107  2.0  2.25  2.5  2.75  3.0  \n"
     ]
    }
   ],
   "source": [
    "import pandas as pd\n",
    "pd.set_option('display.width', 55)\n",
    "\n",
    "df = pd.DataFrame({'A': [0,0,0,0,0,1,1],\n",
    "                   'B': [1,2,3,5,4,2,5],\n",
    "                   'C': [5,3,4,1,1,2,3]})\n",
    "\n",
    "a_group_desc = df.groupby('A').describe()\n",
    "print(a_group_desc)"
   ]
  },
  {
   "cell_type": "code",
   "execution_count": 4,
   "id": "ac6353c1",
   "metadata": {},
   "outputs": [
    {
     "name": "stdout",
     "output_type": "stream",
     "text": [
      "                B         C\n",
      "A                          \n",
      "0 count  5.000000  5.000000\n",
      "  mean   3.000000  2.800000\n",
      "  std    1.581139  1.788854\n",
      "  min    1.000000  1.000000\n",
      "  25%    2.000000  1.000000\n",
      "  50%    3.000000  3.000000\n",
      "  75%    4.000000  4.000000\n",
      "  max    5.000000  5.000000\n",
      "1 count  2.000000  2.000000\n",
      "  mean   3.500000  2.500000\n",
      "  std    2.121320  0.707107\n",
      "  min    2.000000  2.000000\n",
      "  25%    2.750000  2.250000\n",
      "  50%    3.500000  2.500000\n",
      "  75%    4.250000  2.750000\n",
      "  max    5.000000  3.000000\n"
     ]
    }
   ],
   "source": [
    "stacked = a_group_desc.stack()\n",
    "print(stacked)"
   ]
  },
  {
   "cell_type": "code",
   "execution_count": 5,
   "id": "d5d7ecfa",
   "metadata": {},
   "outputs": [
    {
     "name": "stdout",
     "output_type": "stream",
     "text": [
      "      B          C     \n",
      "  count mean count mean\n",
      "A                      \n",
      "0   5.0  3.0   5.0  2.8\n",
      "1   2.0  3.5   2.0  2.5\n"
     ]
    }
   ],
   "source": [
    "print(a_group_desc.loc[:,(slice(None), ['count', 'mean']),])"
   ]
  },
  {
   "cell_type": "markdown",
   "id": "90abcb1e",
   "metadata": {},
   "source": [
    "# Manipulating Categorical Variables"
   ]
  },
  {
   "cell_type": "markdown",
   "id": "c71ad7ee",
   "metadata": {},
   "source": [
    "## Checking your version of pandas"
   ]
  },
  {
   "cell_type": "code",
   "execution_count": 6,
   "id": "e850140d",
   "metadata": {},
   "outputs": [
    {
     "name": "stdout",
     "output_type": "stream",
     "text": [
      "1.3.4\n"
     ]
    }
   ],
   "source": [
    "import pandas as pd\n",
    "print(pd.__version__)"
   ]
  },
  {
   "cell_type": "code",
   "execution_count": null,
   "id": "a155e521",
   "metadata": {},
   "outputs": [],
   "source": []
  }
 ],
 "metadata": {
  "kernelspec": {
   "display_name": "Python 3 (ipykernel)",
   "language": "python",
   "name": "python3"
  },
  "language_info": {
   "codemirror_mode": {
    "name": "ipython",
    "version": 3
   },
   "file_extension": ".py",
   "mimetype": "text/x-python",
   "name": "python",
   "nbconvert_exporter": "python",
   "pygments_lexer": "ipython3",
   "version": "3.9.7"
  }
 },
 "nbformat": 4,
 "nbformat_minor": 5
}
