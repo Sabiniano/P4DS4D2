{
 "cells": [
  {
   "cell_type": "code",
   "execution_count": 1,
   "id": "f7d05260",
   "metadata": {},
   "outputs": [
    {
     "name": "stdout",
     "output_type": "stream",
     "text": [
      "            age\n",
      "0       29.0000\n",
      "1        0.9167\n",
      "2        2.0000\n",
      "3       30.0000\n",
      "4       25.0000\n",
      "...         ...\n",
      "1304    14.5000\n",
      "1305  9999.0000\n",
      "1306    26.5000\n",
      "1307    27.0000\n",
      "1308    29.0000\n",
      "\n",
      "[1309 rows x 1 columns]\n"
     ]
    }
   ],
   "source": [
    "import pandas as pd\n",
    "titanic = pd.io.parsers.read_csv(\"Titanic.csv\")\n",
    "x = titanic[['age']]\n",
    "print(x)"
   ]
  },
  {
   "cell_type": "code",
   "execution_count": 2,
   "id": "b06cec79",
   "metadata": {},
   "outputs": [
    {
     "name": "stdout",
     "output_type": "stream",
     "text": [
      "[[29.        ]\n",
      " [ 0.91670001]\n",
      " [ 2.        ]\n",
      " ...\n",
      " [26.5       ]\n",
      " [27.        ]\n",
      " [29.        ]]\n"
     ]
    }
   ],
   "source": [
    "import pandas as pd\n",
    "titanic = pd.io.parsers.read_csv(\"Titanic.csv\")\n",
    "x = titanic[['age']].values\n",
    "print(x)"
   ]
  },
  {
   "cell_type": "code",
   "execution_count": null,
   "id": "539f90d8",
   "metadata": {},
   "outputs": [],
   "source": []
  }
 ],
 "metadata": {
  "kernelspec": {
   "display_name": "Python 3 (ipykernel)",
   "language": "python",
   "name": "python3"
  },
  "language_info": {
   "codemirror_mode": {
    "name": "ipython",
    "version": 3
   },
   "file_extension": ".py",
   "mimetype": "text/x-python",
   "name": "python",
   "nbconvert_exporter": "python",
   "pygments_lexer": "ipython3",
   "version": "3.9.7"
  }
 },
 "nbformat": 4,
 "nbformat_minor": 5
}
